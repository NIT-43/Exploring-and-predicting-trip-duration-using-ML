{
 "cells": [
  {
   "cell_type": "code",
   "execution_count": 38,
   "id": "c3c052f2",
   "metadata": {},
   "outputs": [],
   "source": [
    "#importing the required libraries\n",
    "import pandas as pd\n",
    "import numpy as np\n",
    "import matplotlib.pyplot as plt"
   ]
  },
  {
   "cell_type": "code",
   "execution_count": 39,
   "id": "638bf353",
   "metadata": {
    "scrolled": true
   },
   "outputs": [
    {
     "data": {
      "text/html": [
       "<div>\n",
       "<style scoped>\n",
       "    .dataframe tbody tr th:only-of-type {\n",
       "        vertical-align: middle;\n",
       "    }\n",
       "\n",
       "    .dataframe tbody tr th {\n",
       "        vertical-align: top;\n",
       "    }\n",
       "\n",
       "    .dataframe thead th {\n",
       "        text-align: right;\n",
       "    }\n",
       "</style>\n",
       "<table border=\"1\" class=\"dataframe\">\n",
       "  <thead>\n",
       "    <tr style=\"text-align: right;\">\n",
       "      <th></th>\n",
       "      <th>id</th>\n",
       "      <th>vendor_id</th>\n",
       "      <th>pickup_datetime</th>\n",
       "      <th>dropoff_datetime</th>\n",
       "      <th>passenger_count</th>\n",
       "      <th>pickup_longitude</th>\n",
       "      <th>pickup_latitude</th>\n",
       "      <th>dropoff_longitude</th>\n",
       "      <th>dropoff_latitude</th>\n",
       "      <th>store_and_fwd_flag</th>\n",
       "      <th>trip_duration</th>\n",
       "    </tr>\n",
       "  </thead>\n",
       "  <tbody>\n",
       "    <tr>\n",
       "      <th>0</th>\n",
       "      <td>id1080784</td>\n",
       "      <td>2</td>\n",
       "      <td>2016-02-29 16:40:21</td>\n",
       "      <td>2016-02-29 16:47:01</td>\n",
       "      <td>1</td>\n",
       "      <td>-73.953918</td>\n",
       "      <td>40.778873</td>\n",
       "      <td>-73.963875</td>\n",
       "      <td>40.771164</td>\n",
       "      <td>N</td>\n",
       "      <td>400</td>\n",
       "    </tr>\n",
       "    <tr>\n",
       "      <th>1</th>\n",
       "      <td>id0889885</td>\n",
       "      <td>1</td>\n",
       "      <td>2016-03-11 23:35:37</td>\n",
       "      <td>2016-03-11 23:53:57</td>\n",
       "      <td>2</td>\n",
       "      <td>-73.988312</td>\n",
       "      <td>40.731743</td>\n",
       "      <td>-73.994751</td>\n",
       "      <td>40.694931</td>\n",
       "      <td>N</td>\n",
       "      <td>1100</td>\n",
       "    </tr>\n",
       "    <tr>\n",
       "      <th>2</th>\n",
       "      <td>id0857912</td>\n",
       "      <td>2</td>\n",
       "      <td>2016-02-21 17:59:33</td>\n",
       "      <td>2016-02-21 18:26:48</td>\n",
       "      <td>2</td>\n",
       "      <td>-73.997314</td>\n",
       "      <td>40.721458</td>\n",
       "      <td>-73.948029</td>\n",
       "      <td>40.774918</td>\n",
       "      <td>N</td>\n",
       "      <td>1635</td>\n",
       "    </tr>\n",
       "    <tr>\n",
       "      <th>3</th>\n",
       "      <td>id3744273</td>\n",
       "      <td>2</td>\n",
       "      <td>2016-01-05 09:44:31</td>\n",
       "      <td>2016-01-05 10:03:32</td>\n",
       "      <td>6</td>\n",
       "      <td>-73.961670</td>\n",
       "      <td>40.759720</td>\n",
       "      <td>-73.956779</td>\n",
       "      <td>40.780628</td>\n",
       "      <td>N</td>\n",
       "      <td>1141</td>\n",
       "    </tr>\n",
       "    <tr>\n",
       "      <th>4</th>\n",
       "      <td>id0232939</td>\n",
       "      <td>1</td>\n",
       "      <td>2016-02-17 06:42:23</td>\n",
       "      <td>2016-02-17 06:56:31</td>\n",
       "      <td>1</td>\n",
       "      <td>-74.017120</td>\n",
       "      <td>40.708469</td>\n",
       "      <td>-73.988182</td>\n",
       "      <td>40.740631</td>\n",
       "      <td>N</td>\n",
       "      <td>848</td>\n",
       "    </tr>\n",
       "  </tbody>\n",
       "</table>\n",
       "</div>"
      ],
      "text/plain": [
       "          id  vendor_id      pickup_datetime     dropoff_datetime  \\\n",
       "0  id1080784          2  2016-02-29 16:40:21  2016-02-29 16:47:01   \n",
       "1  id0889885          1  2016-03-11 23:35:37  2016-03-11 23:53:57   \n",
       "2  id0857912          2  2016-02-21 17:59:33  2016-02-21 18:26:48   \n",
       "3  id3744273          2  2016-01-05 09:44:31  2016-01-05 10:03:32   \n",
       "4  id0232939          1  2016-02-17 06:42:23  2016-02-17 06:56:31   \n",
       "\n",
       "   passenger_count  pickup_longitude  pickup_latitude  dropoff_longitude  \\\n",
       "0                1        -73.953918        40.778873         -73.963875   \n",
       "1                2        -73.988312        40.731743         -73.994751   \n",
       "2                2        -73.997314        40.721458         -73.948029   \n",
       "3                6        -73.961670        40.759720         -73.956779   \n",
       "4                1        -74.017120        40.708469         -73.988182   \n",
       "\n",
       "   dropoff_latitude store_and_fwd_flag  trip_duration  \n",
       "0         40.771164                  N            400  \n",
       "1         40.694931                  N           1100  \n",
       "2         40.774918                  N           1635  \n",
       "3         40.780628                  N           1141  \n",
       "4         40.740631                  N            848  "
      ]
     },
     "execution_count": 39,
     "metadata": {},
     "output_type": "execute_result"
    }
   ],
   "source": [
    "#reading the csv file\n",
    "df = pd.read_csv(\"nyc_taxi_trip_duration.csv\")\n",
    "df.head()"
   ]
  },
  {
   "cell_type": "code",
   "execution_count": 40,
   "id": "c2bbf23e",
   "metadata": {},
   "outputs": [],
   "source": [
    "# removing the outlier"
   ]
  },
  {
   "cell_type": "code",
   "execution_count": 41,
   "id": "44133477",
   "metadata": {},
   "outputs": [
    {
     "data": {
      "text/plain": [
       "1    517415\n",
       "2    105097\n",
       "5     38926\n",
       "3     29692\n",
       "6     24107\n",
       "4     14050\n",
       "0        33\n",
       "7         1\n",
       "9         1\n",
       "Name: passenger_count, dtype: int64"
      ]
     },
     "execution_count": 41,
     "metadata": {},
     "output_type": "execute_result"
    }
   ],
   "source": [
    "df[\"passenger_count\"].value_counts()"
   ]
  },
  {
   "cell_type": "code",
   "execution_count": 42,
   "id": "231afebf",
   "metadata": {},
   "outputs": [],
   "source": [
    "df = df.loc[~(df['passenger_count'] == 0)]\n",
    "df = df.loc[~(df['passenger_count'] == 7)]\n",
    "df = df.loc[~(df['passenger_count'] == 9)]\n"
   ]
  },
  {
   "cell_type": "code",
   "execution_count": null,
   "id": "950e2d59",
   "metadata": {},
   "outputs": [],
   "source": []
  },
  {
   "cell_type": "code",
   "execution_count": 43,
   "id": "aeaa7886",
   "metadata": {},
   "outputs": [],
   "source": [
    "df['trip_duration_hour'] = df['trip_duration'].apply(lambda x: x/3600)\n",
    "df.drop(columns=['trip_duration'], inplace=True)"
   ]
  },
  {
   "cell_type": "code",
   "execution_count": 44,
   "id": "91dedae2",
   "metadata": {},
   "outputs": [
    {
     "data": {
      "text/plain": [
       "id                     object\n",
       "vendor_id               int64\n",
       "pickup_datetime        object\n",
       "dropoff_datetime       object\n",
       "passenger_count         int64\n",
       "pickup_longitude      float64\n",
       "pickup_latitude       float64\n",
       "dropoff_longitude     float64\n",
       "dropoff_latitude      float64\n",
       "store_and_fwd_flag     object\n",
       "trip_duration_hour    float64\n",
       "dtype: object"
      ]
     },
     "execution_count": 44,
     "metadata": {},
     "output_type": "execute_result"
    }
   ],
   "source": [
    "df.dtypes"
   ]
  },
  {
   "cell_type": "markdown",
   "id": "c6501fee",
   "metadata": {},
   "source": [
    "# Build a K-Nearest neighbours’ model for the given dataset and find the best value of k\n"
   ]
  },
  {
   "cell_type": "code",
   "execution_count": 87,
   "id": "9416c7f1",
   "metadata": {},
   "outputs": [],
   "source": [
    "custom_df = df.sample(10000)"
   ]
  },
  {
   "cell_type": "code",
   "execution_count": 88,
   "id": "1d208cdf",
   "metadata": {},
   "outputs": [],
   "source": [
    "sample_df=custom_df"
   ]
  },
  {
   "cell_type": "code",
   "execution_count": 89,
   "id": "262e4d63",
   "metadata": {},
   "outputs": [],
   "source": [
    "#seperate features and target\n",
    "features = sample_df.drop([\"id\",\"vendor_id\",\"trip_duration_hour\",\"pickup_datetime\",\"dropoff_datetime\",\"store_and_fwd_flag\"],axis = 1)\n",
    "target = sample_df[\"trip_duration_hour\"]"
   ]
  },
  {
   "cell_type": "code",
   "execution_count": 90,
   "id": "8535d212",
   "metadata": {},
   "outputs": [],
   "source": [
    "#seperate features and target\n",
    "features = sample_df.drop([\"id\",\"vendor_id\",\"trip_duration_hour\",\"pickup_datetime\",\"dropoff_datetime\",\"store_and_fwd_flag\"],axis = 1)\n",
    "target = sample_df[\"trip_duration_hour\"]"
   ]
  },
  {
   "cell_type": "code",
   "execution_count": 91,
   "id": "8ca91efb",
   "metadata": {},
   "outputs": [
    {
     "data": {
      "text/plain": [
       "id                     object\n",
       "vendor_id               int64\n",
       "pickup_datetime        object\n",
       "dropoff_datetime       object\n",
       "passenger_count         int64\n",
       "pickup_longitude      float64\n",
       "pickup_latitude       float64\n",
       "dropoff_longitude     float64\n",
       "dropoff_latitude      float64\n",
       "store_and_fwd_flag     object\n",
       "trip_duration_hour    float64\n",
       "dtype: object"
      ]
     },
     "execution_count": 91,
     "metadata": {},
     "output_type": "execute_result"
    }
   ],
   "source": [
    "sample_df.dtypes"
   ]
  },
  {
   "cell_type": "code",
   "execution_count": 92,
   "id": "ac0b424b",
   "metadata": {},
   "outputs": [
    {
     "data": {
      "text/plain": [
       "1    7097\n",
       "2    1376\n",
       "5     584\n",
       "3     402\n",
       "6     355\n",
       "4     186\n",
       "Name: passenger_count, dtype: int64"
      ]
     },
     "execution_count": 92,
     "metadata": {},
     "output_type": "execute_result"
    }
   ],
   "source": [
    "#converting the store and fwd flag to int type\n",
    "df[\"passenger_count\"].value_counts()"
   ]
  },
  {
   "cell_type": "code",
   "execution_count": 93,
   "id": "22acffce",
   "metadata": {},
   "outputs": [
    {
     "data": {
      "text/html": [
       "<div>\n",
       "<style scoped>\n",
       "    .dataframe tbody tr th:only-of-type {\n",
       "        vertical-align: middle;\n",
       "    }\n",
       "\n",
       "    .dataframe tbody tr th {\n",
       "        vertical-align: top;\n",
       "    }\n",
       "\n",
       "    .dataframe thead th {\n",
       "        text-align: right;\n",
       "    }\n",
       "</style>\n",
       "<table border=\"1\" class=\"dataframe\">\n",
       "  <thead>\n",
       "    <tr style=\"text-align: right;\">\n",
       "      <th></th>\n",
       "      <th>pickup_longitude</th>\n",
       "      <th>pickup_latitude</th>\n",
       "      <th>dropoff_longitude</th>\n",
       "      <th>dropoff_latitude</th>\n",
       "      <th>passenger_count_1</th>\n",
       "      <th>passenger_count_2</th>\n",
       "      <th>passenger_count_3</th>\n",
       "      <th>passenger_count_4</th>\n",
       "      <th>passenger_count_5</th>\n",
       "      <th>passenger_count_6</th>\n",
       "    </tr>\n",
       "  </thead>\n",
       "  <tbody>\n",
       "    <tr>\n",
       "      <th>146191</th>\n",
       "      <td>-74.013412</td>\n",
       "      <td>40.709381</td>\n",
       "      <td>-73.975502</td>\n",
       "      <td>40.681133</td>\n",
       "      <td>0</td>\n",
       "      <td>1</td>\n",
       "      <td>0</td>\n",
       "      <td>0</td>\n",
       "      <td>0</td>\n",
       "      <td>0</td>\n",
       "    </tr>\n",
       "    <tr>\n",
       "      <th>265532</th>\n",
       "      <td>-74.000076</td>\n",
       "      <td>40.761559</td>\n",
       "      <td>-73.994354</td>\n",
       "      <td>40.760761</td>\n",
       "      <td>1</td>\n",
       "      <td>0</td>\n",
       "      <td>0</td>\n",
       "      <td>0</td>\n",
       "      <td>0</td>\n",
       "      <td>0</td>\n",
       "    </tr>\n",
       "    <tr>\n",
       "      <th>513052</th>\n",
       "      <td>-73.974457</td>\n",
       "      <td>40.757908</td>\n",
       "      <td>-73.974205</td>\n",
       "      <td>40.753754</td>\n",
       "      <td>1</td>\n",
       "      <td>0</td>\n",
       "      <td>0</td>\n",
       "      <td>0</td>\n",
       "      <td>0</td>\n",
       "      <td>0</td>\n",
       "    </tr>\n",
       "    <tr>\n",
       "      <th>607286</th>\n",
       "      <td>-73.985367</td>\n",
       "      <td>40.737347</td>\n",
       "      <td>-74.011597</td>\n",
       "      <td>40.702568</td>\n",
       "      <td>0</td>\n",
       "      <td>0</td>\n",
       "      <td>0</td>\n",
       "      <td>0</td>\n",
       "      <td>1</td>\n",
       "      <td>0</td>\n",
       "    </tr>\n",
       "    <tr>\n",
       "      <th>658563</th>\n",
       "      <td>-73.943840</td>\n",
       "      <td>40.788502</td>\n",
       "      <td>-73.950119</td>\n",
       "      <td>40.778938</td>\n",
       "      <td>1</td>\n",
       "      <td>0</td>\n",
       "      <td>0</td>\n",
       "      <td>0</td>\n",
       "      <td>0</td>\n",
       "      <td>0</td>\n",
       "    </tr>\n",
       "  </tbody>\n",
       "</table>\n",
       "</div>"
      ],
      "text/plain": [
       "        pickup_longitude  pickup_latitude  dropoff_longitude  \\\n",
       "146191        -74.013412        40.709381         -73.975502   \n",
       "265532        -74.000076        40.761559         -73.994354   \n",
       "513052        -73.974457        40.757908         -73.974205   \n",
       "607286        -73.985367        40.737347         -74.011597   \n",
       "658563        -73.943840        40.788502         -73.950119   \n",
       "\n",
       "        dropoff_latitude  passenger_count_1  passenger_count_2  \\\n",
       "146191         40.681133                  0                  1   \n",
       "265532         40.760761                  1                  0   \n",
       "513052         40.753754                  1                  0   \n",
       "607286         40.702568                  0                  0   \n",
       "658563         40.778938                  1                  0   \n",
       "\n",
       "        passenger_count_3  passenger_count_4  passenger_count_5  \\\n",
       "146191                  0                  0                  0   \n",
       "265532                  0                  0                  0   \n",
       "513052                  0                  0                  0   \n",
       "607286                  0                  0                  1   \n",
       "658563                  0                  0                  0   \n",
       "\n",
       "        passenger_count_6  \n",
       "146191                  0  \n",
       "265532                  0  \n",
       "513052                  0  \n",
       "607286                  0  \n",
       "658563                  0  "
      ]
     },
     "execution_count": 93,
     "metadata": {},
     "output_type": "execute_result"
    }
   ],
   "source": [
    "df1 = pd.concat([sample_df, pd.get_dummies(sample_df[['passenger_count']].astype('str'))], axis=1)\n",
    "try:\n",
    "    df1.drop(['id','vendor_id','trip_duration_hour','pickup_datetime','dropoff_datetime','store_and_fwd_flag','passenger_count'], axis=1, inplace=True)\n",
    "except KeyError:\n",
    "    pass\n",
    "\n",
    "df1.head()"
   ]
  },
  {
   "cell_type": "code",
   "execution_count": 96,
   "id": "107a909b",
   "metadata": {},
   "outputs": [
    {
     "data": {
      "text/plain": [
       "((10000, 10), (10000,))"
      ]
     },
     "execution_count": 96,
     "metadata": {},
     "output_type": "execute_result"
    }
   ],
   "source": [
    "#seperate features and target\n",
    "x = df1\n",
    "y = df[\"trip_duration_hour\"]\n",
    "x.shape,y.shape"
   ]
  },
  {
   "cell_type": "code",
   "execution_count": 97,
   "id": "ab650270",
   "metadata": {},
   "outputs": [],
   "source": [
    "#scaling the data(using MinMax Scaler)\n",
    "from sklearn.preprocessing import MinMaxScaler\n",
    "scaler = MinMaxScaler()\n",
    "x_scaled = scaler.fit_transform(x)"
   ]
  },
  {
   "cell_type": "code",
   "execution_count": 98,
   "id": "918ff939",
   "metadata": {},
   "outputs": [
    {
     "data": {
      "text/html": [
       "<div>\n",
       "<style scoped>\n",
       "    .dataframe tbody tr th:only-of-type {\n",
       "        vertical-align: middle;\n",
       "    }\n",
       "\n",
       "    .dataframe tbody tr th {\n",
       "        vertical-align: top;\n",
       "    }\n",
       "\n",
       "    .dataframe thead th {\n",
       "        text-align: right;\n",
       "    }\n",
       "</style>\n",
       "<table border=\"1\" class=\"dataframe\">\n",
       "  <thead>\n",
       "    <tr style=\"text-align: right;\">\n",
       "      <th></th>\n",
       "      <th>pickup_longitude</th>\n",
       "      <th>pickup_latitude</th>\n",
       "      <th>dropoff_longitude</th>\n",
       "      <th>dropoff_latitude</th>\n",
       "      <th>passenger_count_1</th>\n",
       "      <th>passenger_count_2</th>\n",
       "      <th>passenger_count_3</th>\n",
       "      <th>passenger_count_4</th>\n",
       "      <th>passenger_count_5</th>\n",
       "      <th>passenger_count_6</th>\n",
       "    </tr>\n",
       "  </thead>\n",
       "  <tbody>\n",
       "    <tr>\n",
       "      <th>0</th>\n",
       "      <td>0.248894</td>\n",
       "      <td>0.254970</td>\n",
       "      <td>0.329205</td>\n",
       "      <td>0.288621</td>\n",
       "      <td>0.0</td>\n",
       "      <td>1.0</td>\n",
       "      <td>0.0</td>\n",
       "      <td>0.0</td>\n",
       "      <td>0.0</td>\n",
       "      <td>0.0</td>\n",
       "    </tr>\n",
       "    <tr>\n",
       "      <th>1</th>\n",
       "      <td>0.285032</td>\n",
       "      <td>0.422099</td>\n",
       "      <td>0.300734</td>\n",
       "      <td>0.505790</td>\n",
       "      <td>1.0</td>\n",
       "      <td>0.0</td>\n",
       "      <td>0.0</td>\n",
       "      <td>0.0</td>\n",
       "      <td>0.0</td>\n",
       "      <td>0.0</td>\n",
       "    </tr>\n",
       "    <tr>\n",
       "      <th>2</th>\n",
       "      <td>0.354455</td>\n",
       "      <td>0.410406</td>\n",
       "      <td>0.331163</td>\n",
       "      <td>0.486678</td>\n",
       "      <td>1.0</td>\n",
       "      <td>0.0</td>\n",
       "      <td>0.0</td>\n",
       "      <td>0.0</td>\n",
       "      <td>0.0</td>\n",
       "      <td>0.0</td>\n",
       "    </tr>\n",
       "    <tr>\n",
       "      <th>3</th>\n",
       "      <td>0.324891</td>\n",
       "      <td>0.344546</td>\n",
       "      <td>0.274694</td>\n",
       "      <td>0.347080</td>\n",
       "      <td>0.0</td>\n",
       "      <td>0.0</td>\n",
       "      <td>0.0</td>\n",
       "      <td>0.0</td>\n",
       "      <td>1.0</td>\n",
       "      <td>0.0</td>\n",
       "    </tr>\n",
       "    <tr>\n",
       "      <th>4</th>\n",
       "      <td>0.437420</td>\n",
       "      <td>0.508400</td>\n",
       "      <td>0.367538</td>\n",
       "      <td>0.555364</td>\n",
       "      <td>1.0</td>\n",
       "      <td>0.0</td>\n",
       "      <td>0.0</td>\n",
       "      <td>0.0</td>\n",
       "      <td>0.0</td>\n",
       "      <td>0.0</td>\n",
       "    </tr>\n",
       "  </tbody>\n",
       "</table>\n",
       "</div>"
      ],
      "text/plain": [
       "   pickup_longitude  pickup_latitude  dropoff_longitude  dropoff_latitude  \\\n",
       "0          0.248894         0.254970           0.329205          0.288621   \n",
       "1          0.285032         0.422099           0.300734          0.505790   \n",
       "2          0.354455         0.410406           0.331163          0.486678   \n",
       "3          0.324891         0.344546           0.274694          0.347080   \n",
       "4          0.437420         0.508400           0.367538          0.555364   \n",
       "\n",
       "   passenger_count_1  passenger_count_2  passenger_count_3  passenger_count_4  \\\n",
       "0                0.0                1.0                0.0                0.0   \n",
       "1                1.0                0.0                0.0                0.0   \n",
       "2                1.0                0.0                0.0                0.0   \n",
       "3                0.0                0.0                0.0                0.0   \n",
       "4                1.0                0.0                0.0                0.0   \n",
       "\n",
       "   passenger_count_5  passenger_count_6  \n",
       "0                0.0                0.0  \n",
       "1                0.0                0.0  \n",
       "2                0.0                0.0  \n",
       "3                1.0                0.0  \n",
       "4                0.0                0.0  "
      ]
     },
     "execution_count": 98,
     "metadata": {},
     "output_type": "execute_result"
    }
   ],
   "source": [
    "x = pd.DataFrame(x_scaled,columns=x.columns)\n",
    "x.head()"
   ]
  },
  {
   "cell_type": "code",
   "execution_count": 99,
   "id": "65a274b7",
   "metadata": {},
   "outputs": [],
   "source": [
    "#importing the train_test_split from sklearn\n",
    "from sklearn.model_selection import train_test_split\n",
    "train_x,test_x,train_y,test_y = train_test_split(x,y,random_state=56)"
   ]
  },
  {
   "cell_type": "code",
   "execution_count": 100,
   "id": "b38e2975",
   "metadata": {},
   "outputs": [],
   "source": [
    "#importing knn regressor and mse metrics\n",
    "from sklearn.neighbors import KNeighborsRegressor as KNN\n",
    "from sklearn.metrics import mean_squared_error as mse\n",
    "from math import sqrt"
   ]
  },
  {
   "cell_type": "code",
   "execution_count": 101,
   "id": "4ad652d9",
   "metadata": {},
   "outputs": [
    {
     "name": "stdout",
     "output_type": "stream",
     "text": [
      "test rmse  0.8482900308922127\n"
     ]
    }
   ],
   "source": [
    "#creating instance of KNN\n",
    "reg = KNN(n_neighbors = 10)\n",
    "#fitting the model\n",
    "reg.fit(train_x,train_y)\n",
    "#predicting over the train set and calculating F1\n",
    "test_predict = reg.predict(test_x)\n",
    "k= sqrt(mse(test_predict,test_y))\n",
    "print(\"test rmse \", k)"
   ]
  },
  {
   "cell_type": "markdown",
   "id": "7b2d781b",
   "metadata": {},
   "source": [
    "# Finding the value of k using elbow method"
   ]
  },
  {
   "cell_type": "code",
   "execution_count": 102,
   "id": "a0fbc833",
   "metadata": {},
   "outputs": [],
   "source": [
    "def elbow(k):\n",
    "    test_rmse=[]\n",
    "    for i in k:\n",
    "        reg = KNN(n_neighbors=i)\n",
    "        reg.fit(train_x,train_y)\n",
    "        tmp = reg.predict(test_x)\n",
    "        tmp = sqrt(mse(tmp,test_y))\n",
    "        test_rmse.append(tmp)\n",
    "        \n",
    "    return test_rmse    "
   ]
  },
  {
   "cell_type": "code",
   "execution_count": 103,
   "id": "ac578d85",
   "metadata": {},
   "outputs": [],
   "source": [
    "k = range(1,50)"
   ]
  },
  {
   "cell_type": "code",
   "execution_count": 104,
   "id": "00452d19",
   "metadata": {},
   "outputs": [],
   "source": [
    "test = elbow(k)"
   ]
  },
  {
   "cell_type": "code",
   "execution_count": 105,
   "id": "5f5665e7",
   "metadata": {},
   "outputs": [
    {
     "data": {
      "text/plain": [
       "Text(0.5, 1.0, 'elbow curve for test')"
      ]
     },
     "execution_count": 105,
     "metadata": {},
     "output_type": "execute_result"
    },
    {
     "data": {
      "image/png": "[encoded data removed]",
      "text/plain": [
       "<Figure size 432x288 with 1 Axes>"
      ]
     },
     "metadata": {
      "needs_background": "light"
     },
     "output_type": "display_data"
    }
   ],
   "source": [
    "#plotting the curves\n",
    "plt.plot(k,test)\n",
    "plt.xlabel(\"k neighbors\")\n",
    "plt.ylabel(\"test mean squared error\")\n",
    "plt.title(\"elbow curve for test\")"
   ]
  },
  {
   "cell_type": "code",
   "execution_count": 106,
   "id": "a08760f0",
   "metadata": {},
   "outputs": [
    {
     "name": "stdout",
     "output_type": "stream",
     "text": [
      "test rmse  0.879542551542604\n"
     ]
    }
   ],
   "source": [
    "#creating instance of KNN\n",
    "reg = KNN(n_neighbors = 5)\n",
    "#fitting the model\n",
    "reg.fit(train_x,train_y)\n",
    "#predicting over the train set and calculating F1\n",
    "test_predict = reg.predict(test_x)\n",
    "k= sqrt(mse(test_predict,test_y))\n",
    "print(\"test rmse \", k)"
   ]
  },
  {
   "cell_type": "markdown",
   "id": "86967387",
   "metadata": {},
   "source": [
    "The best value of k is 10"
   ]
  },
  {
   "cell_type": "code",
   "execution_count": 107,
   "id": "9cca57c7",
   "metadata": {},
   "outputs": [
    {
     "data": {
      "text/plain": [
       "22.066087471354766"
      ]
     },
     "execution_count": 107,
     "metadata": {},
     "output_type": "execute_result"
    }
   ],
   "source": [
    "knn_train_score = reg.score(train_x,train_y)\n",
    "knn_train_score*100"
   ]
  },
  {
   "cell_type": "code",
   "execution_count": 108,
   "id": "e6e2668e",
   "metadata": {},
   "outputs": [
    {
     "data": {
      "text/plain": [
       "-13.45060950590189"
      ]
     },
     "execution_count": 108,
     "metadata": {},
     "output_type": "execute_result"
    }
   ],
   "source": [
    "knn_test_score = reg.score(test_x,test_y)\n",
    "knn_test_score*100"
   ]
  },
  {
   "cell_type": "code",
   "execution_count": 109,
   "id": "7985a847",
   "metadata": {},
   "outputs": [
    {
     "name": "stdout",
     "output_type": "stream",
     "text": [
      "Stored 'knn_test_score' (float64)\n"
     ]
    }
   ],
   "source": [
    "#storing the value of train score which can be further used in other files for plotting the bar graph\n",
    "%store knn_test_score"
   ]
  },
  {
   "cell_type": "code",
   "execution_count": 110,
   "id": "7e0eb371",
   "metadata": {},
   "outputs": [
    {
     "name": "stdout",
     "output_type": "stream",
     "text": [
      "Stored 'knn_train_score' (float64)\n"
     ]
    }
   ],
   "source": [
    "#storing the value of test score which can be further used in other files for plotting the bar graph\n",
    "%store knn_train_score"
   ]
  },
  {
   "cell_type": "code",
   "execution_count": 111,
   "id": "066e9add",
   "metadata": {},
   "outputs": [],
   "source": [
    "custom_df=sample_df"
   ]
  },
  {
   "cell_type": "code",
   "execution_count": 112,
   "id": "f9e2f7cd",
   "metadata": {},
   "outputs": [
    {
     "data": {
      "text/plain": [
       "id                     object\n",
       "vendor_id               int64\n",
       "pickup_datetime        object\n",
       "dropoff_datetime       object\n",
       "passenger_count         int64\n",
       "pickup_longitude      float64\n",
       "pickup_latitude       float64\n",
       "dropoff_longitude     float64\n",
       "dropoff_latitude      float64\n",
       "store_and_fwd_flag     object\n",
       "trip_duration_hour    float64\n",
       "dtype: object"
      ]
     },
     "execution_count": 112,
     "metadata": {},
     "output_type": "execute_result"
    }
   ],
   "source": [
    "sample_df.dtypes"
   ]
  },
  {
   "cell_type": "code",
   "execution_count": 113,
   "id": "7244bcef",
   "metadata": {},
   "outputs": [],
   "source": [
    "#seperate features and target\n",
    "features = sample_df.drop([\"id\",\"vendor_id\",\"trip_duration_hour\",\"pickup_datetime\",\"dropoff_datetime\"],axis = 1)\n",
    "target = sample_df[\"trip_duration_hour\"]"
   ]
  },
  {
   "cell_type": "code",
   "execution_count": 114,
   "id": "b7efc449",
   "metadata": {},
   "outputs": [
    {
     "data": {
      "text/html": [
       "<div>\n",
       "<style scoped>\n",
       "    .dataframe tbody tr th:only-of-type {\n",
       "        vertical-align: middle;\n",
       "    }\n",
       "\n",
       "    .dataframe tbody tr th {\n",
       "        vertical-align: top;\n",
       "    }\n",
       "\n",
       "    .dataframe thead th {\n",
       "        text-align: right;\n",
       "    }\n",
       "</style>\n",
       "<table border=\"1\" class=\"dataframe\">\n",
       "  <thead>\n",
       "    <tr style=\"text-align: right;\">\n",
       "      <th></th>\n",
       "      <th>pickup_longitude</th>\n",
       "      <th>pickup_latitude</th>\n",
       "      <th>dropoff_longitude</th>\n",
       "      <th>dropoff_latitude</th>\n",
       "      <th>passenger_count_1</th>\n",
       "      <th>passenger_count_2</th>\n",
       "      <th>passenger_count_3</th>\n",
       "      <th>passenger_count_4</th>\n",
       "      <th>passenger_count_5</th>\n",
       "      <th>passenger_count_6</th>\n",
       "    </tr>\n",
       "  </thead>\n",
       "  <tbody>\n",
       "    <tr>\n",
       "      <th>146191</th>\n",
       "      <td>-74.013412</td>\n",
       "      <td>40.709381</td>\n",
       "      <td>-73.975502</td>\n",
       "      <td>40.681133</td>\n",
       "      <td>0</td>\n",
       "      <td>1</td>\n",
       "      <td>0</td>\n",
       "      <td>0</td>\n",
       "      <td>0</td>\n",
       "      <td>0</td>\n",
       "    </tr>\n",
       "    <tr>\n",
       "      <th>265532</th>\n",
       "      <td>-74.000076</td>\n",
       "      <td>40.761559</td>\n",
       "      <td>-73.994354</td>\n",
       "      <td>40.760761</td>\n",
       "      <td>1</td>\n",
       "      <td>0</td>\n",
       "      <td>0</td>\n",
       "      <td>0</td>\n",
       "      <td>0</td>\n",
       "      <td>0</td>\n",
       "    </tr>\n",
       "    <tr>\n",
       "      <th>513052</th>\n",
       "      <td>-73.974457</td>\n",
       "      <td>40.757908</td>\n",
       "      <td>-73.974205</td>\n",
       "      <td>40.753754</td>\n",
       "      <td>1</td>\n",
       "      <td>0</td>\n",
       "      <td>0</td>\n",
       "      <td>0</td>\n",
       "      <td>0</td>\n",
       "      <td>0</td>\n",
       "    </tr>\n",
       "    <tr>\n",
       "      <th>607286</th>\n",
       "      <td>-73.985367</td>\n",
       "      <td>40.737347</td>\n",
       "      <td>-74.011597</td>\n",
       "      <td>40.702568</td>\n",
       "      <td>0</td>\n",
       "      <td>0</td>\n",
       "      <td>0</td>\n",
       "      <td>0</td>\n",
       "      <td>1</td>\n",
       "      <td>0</td>\n",
       "    </tr>\n",
       "    <tr>\n",
       "      <th>658563</th>\n",
       "      <td>-73.943840</td>\n",
       "      <td>40.788502</td>\n",
       "      <td>-73.950119</td>\n",
       "      <td>40.778938</td>\n",
       "      <td>1</td>\n",
       "      <td>0</td>\n",
       "      <td>0</td>\n",
       "      <td>0</td>\n",
       "      <td>0</td>\n",
       "      <td>0</td>\n",
       "    </tr>\n",
       "  </tbody>\n",
       "</table>\n",
       "</div>"
      ],
      "text/plain": [
       "        pickup_longitude  pickup_latitude  dropoff_longitude  \\\n",
       "146191        -74.013412        40.709381         -73.975502   \n",
       "265532        -74.000076        40.761559         -73.994354   \n",
       "513052        -73.974457        40.757908         -73.974205   \n",
       "607286        -73.985367        40.737347         -74.011597   \n",
       "658563        -73.943840        40.788502         -73.950119   \n",
       "\n",
       "        dropoff_latitude  passenger_count_1  passenger_count_2  \\\n",
       "146191         40.681133                  0                  1   \n",
       "265532         40.760761                  1                  0   \n",
       "513052         40.753754                  1                  0   \n",
       "607286         40.702568                  0                  0   \n",
       "658563         40.778938                  1                  0   \n",
       "\n",
       "        passenger_count_3  passenger_count_4  passenger_count_5  \\\n",
       "146191                  0                  0                  0   \n",
       "265532                  0                  0                  0   \n",
       "513052                  0                  0                  0   \n",
       "607286                  0                  0                  1   \n",
       "658563                  0                  0                  0   \n",
       "\n",
       "        passenger_count_6  \n",
       "146191                  0  \n",
       "265532                  0  \n",
       "513052                  0  \n",
       "607286                  0  \n",
       "658563                  0  "
      ]
     },
     "execution_count": 114,
     "metadata": {},
     "output_type": "execute_result"
    }
   ],
   "source": [
    "df1 = pd.concat([sample_df, pd.get_dummies(sample_df[['passenger_count']].astype('str'))], axis=1)\n",
    "try:\n",
    "    df1.drop(['id','vendor_id','trip_duration_hour','pickup_datetime','dropoff_datetime','store_and_fwd_flag','passenger_count'], axis=1, inplace=True)\n",
    "except KeyError:\n",
    "    pass\n",
    "\n",
    "df1.head()"
   ]
  },
  {
   "cell_type": "code",
   "execution_count": 115,
   "id": "9b37ebd7",
   "metadata": {},
   "outputs": [
    {
     "data": {
      "text/plain": [
       "(10000, 10)"
      ]
     },
     "execution_count": 115,
     "metadata": {},
     "output_type": "execute_result"
    }
   ],
   "source": [
    "df1.shape"
   ]
  },
  {
   "cell_type": "code",
   "execution_count": 116,
   "id": "4ae937fb",
   "metadata": {},
   "outputs": [
    {
     "data": {
      "text/plain": [
       "((10000, 10), (10000,))"
      ]
     },
     "execution_count": 116,
     "metadata": {},
     "output_type": "execute_result"
    }
   ],
   "source": [
    "#seperate features and target\n",
    "x = df1\n",
    "y = sample_df[\"trip_duration_hour\"]\n",
    "x.shape,y.shape"
   ]
  },
  {
   "cell_type": "code",
   "execution_count": 117,
   "id": "24e93850",
   "metadata": {},
   "outputs": [],
   "source": [
    "from sklearn.model_selection import train_test_split\n",
    "train_x,test_x,train_y,test_y = train_test_split(x,y,random_state=56)"
   ]
  },
  {
   "cell_type": "markdown",
   "id": "c6828b55",
   "metadata": {},
   "source": [
    "# Build a Linear model for the given dataset with regularisation. Attempt to interpret the variable coefficients of the Linear Model."
   ]
  },
  {
   "cell_type": "code",
   "execution_count": 154,
   "id": "c08e1811",
   "metadata": {},
   "outputs": [],
   "source": [
    "from sklearn.linear_model import LinearRegression as LR\n",
    "from sklearn.metrics import mean_squared_error as mse"
   ]
  },
  {
   "cell_type": "code",
   "execution_count": 198,
   "id": "2dee394b",
   "metadata": {},
   "outputs": [
    {
     "data": {
      "text/plain": [
       "LinearRegression()"
      ]
     },
     "execution_count": 198,
     "metadata": {},
     "output_type": "execute_result"
    }
   ],
   "source": [
    "#creating an instance of LR\n",
    "lr = LR()\n",
    "#fitting the model\n",
    "lr.fit(train_x,train_y)"
   ]
  },
  {
   "cell_type": "code",
   "execution_count": 156,
   "id": "ea7b1585",
   "metadata": {},
   "outputs": [
    {
     "name": "stdout",
     "output_type": "stream",
     "text": [
      "training rmse  0.6346149233354497\n"
     ]
    }
   ],
   "source": [
    "#predicting the train values and finding the RMSE\n",
    "train_predict = lr.predict(train_x)\n",
    "k = sqrt(mse(train_predict,train_y))\n",
    "print(\"training rmse \",k)"
   ]
  },
  {
   "cell_type": "code",
   "execution_count": 157,
   "id": "55e18e04",
   "metadata": {},
   "outputs": [
    {
     "name": "stdout",
     "output_type": "stream",
     "text": [
      "testing rmse  1.1463409343038833\n"
     ]
    }
   ],
   "source": [
    "#predicting the test values and finding the RMSE\n",
    "test_predict = lr.predict(test_x)\n",
    "k = sqrt(mse(test_predict,test_y))\n",
    "print(\"testing rmse \",k)"
   ]
  },
  {
   "cell_type": "code",
   "execution_count": 158,
   "id": "365ce0b0",
   "metadata": {},
   "outputs": [
    {
     "data": {
      "text/plain": [
       "array([ 1.42080279, -0.99258854,  0.68009856, -1.06158804,  0.01102592,\n",
       "        0.02619976, -0.00204601, -0.00311208, -0.01788712, -0.01418048])"
      ]
     },
     "execution_count": 158,
     "metadata": {},
     "output_type": "execute_result"
    }
   ],
   "source": [
    "#computing the coefficients of above model\n",
    "lr.coef_"
   ]
  },
  {
   "cell_type": "markdown",
   "id": "8416d6f8",
   "metadata": {},
   "source": [
    "# plotting the coefficients"
   ]
  },
  {
   "cell_type": "code",
   "execution_count": 197,
   "id": "6d2eb1f3",
   "metadata": {
    "scrolled": true
   },
   "outputs": [
    {
     "data": {
      "text/plain": [
       "Text(0.5, 1.0, 'coefficient plot')"
      ]
     },
     "execution_count": 197,
     "metadata": {},
     "output_type": "execute_result"
    },
    {
     "data": {
      "image/png": "[encoded data removed]",
      "text/plain": [
       "<Figure size 800x320 with 1 Axes>"
      ]
     },
     "metadata": {},
     "output_type": "display_data"
    }
   ],
   "source": [
    "plt.figure(figsize=(10,4),dpi=80,facecolor=\"w\",edgecolor=\"b\")\n",
    "x = range(len(train_x.columns))\n",
    "y = lr.coef_\n",
    "plt.bar(x,y)\n",
    "plt.xlabel(\"variables\")\n",
    "plt.ylabel(\"coefficents\")\n",
    "plt.title(\"coefficient plot\")"
   ]
  },
  {
   "cell_type": "markdown",
   "id": "372639be",
   "metadata": {},
   "source": [
    "Here we can see that the model depends upon some Independent variables too much, But these coefficients are not suitable for interpretation because these are not scaled."
   ]
  },
  {
   "cell_type": "code",
   "execution_count": 160,
   "id": "1c13c71b",
   "metadata": {},
   "outputs": [
    {
     "data": {
      "text/html": [
       "<div>\n",
       "<style scoped>\n",
       "    .dataframe tbody tr th:only-of-type {\n",
       "        vertical-align: middle;\n",
       "    }\n",
       "\n",
       "    .dataframe tbody tr th {\n",
       "        vertical-align: top;\n",
       "    }\n",
       "\n",
       "    .dataframe thead th {\n",
       "        text-align: right;\n",
       "    }\n",
       "</style>\n",
       "<table border=\"1\" class=\"dataframe\">\n",
       "  <thead>\n",
       "    <tr style=\"text-align: right;\">\n",
       "      <th></th>\n",
       "      <th>fitted_values</th>\n",
       "      <th>predicted_values</th>\n",
       "      <th>residuals</th>\n",
       "    </tr>\n",
       "  </thead>\n",
       "  <tbody>\n",
       "    <tr>\n",
       "      <th>534484</th>\n",
       "      <td>0.201111</td>\n",
       "      <td>0.237518</td>\n",
       "      <td>-0.036407</td>\n",
       "    </tr>\n",
       "    <tr>\n",
       "      <th>569166</th>\n",
       "      <td>0.047778</td>\n",
       "      <td>0.177900</td>\n",
       "      <td>-0.130123</td>\n",
       "    </tr>\n",
       "    <tr>\n",
       "      <th>700651</th>\n",
       "      <td>0.196667</td>\n",
       "      <td>0.224883</td>\n",
       "      <td>-0.028217</td>\n",
       "    </tr>\n",
       "    <tr>\n",
       "      <th>492236</th>\n",
       "      <td>0.258889</td>\n",
       "      <td>0.206411</td>\n",
       "      <td>0.052478</td>\n",
       "    </tr>\n",
       "    <tr>\n",
       "      <th>147163</th>\n",
       "      <td>0.408611</td>\n",
       "      <td>0.260428</td>\n",
       "      <td>0.148183</td>\n",
       "    </tr>\n",
       "  </tbody>\n",
       "</table>\n",
       "</div>"
      ],
      "text/plain": [
       "        fitted_values  predicted_values  residuals\n",
       "534484       0.201111          0.237518  -0.036407\n",
       "569166       0.047778          0.177900  -0.130123\n",
       "700651       0.196667          0.224883  -0.028217\n",
       "492236       0.258889          0.206411   0.052478\n",
       "147163       0.408611          0.260428   0.148183"
      ]
     },
     "execution_count": 160,
     "metadata": {},
     "output_type": "execute_result"
    }
   ],
   "source": [
    "#calculating the residuals \n",
    "residuals = pd.DataFrame({\n",
    "    \"fitted_values\":test_y,\n",
    "    \"predicted_values\":test_predict\n",
    "})\n",
    "residuals[\"residuals\"]=residuals[\"fitted_values\"]-residuals[\"predicted_values\"]\n",
    "residuals.head()"
   ]
  },
  {
   "cell_type": "code",
   "execution_count": 200,
   "id": "cb806000",
   "metadata": {
    "scrolled": true
   },
   "outputs": [
    {
     "data": {
      "image/png": "[encoded data removed]",
      "text/plain": [
       "<Figure size 800x320 with 1 Axes>"
      ]
     },
     "metadata": {},
     "output_type": "display_data"
    }
   ],
   "source": [
    "plt.figure(figsize=(10,4),dpi=80,facecolor=\"w\",edgecolor=\"b\")\n",
    "plt.hist(residuals.residuals,bins=100)\n",
    "plt.xlabel(\"error\")\n",
    "plt.ylabel(\"frequency\")\n",
    "plt.title(\"distribution of error terms\")\n",
    "plt.show()"
   ]
  },
  {
   "cell_type": "code",
   "execution_count": 201,
   "id": "dae886ee",
   "metadata": {},
   "outputs": [
    {
     "data": {
      "image/png": "[encoded data removed]",
      "text/plain": [
       "<Figure size 600x750 with 1 Axes>"
      ]
     },
     "metadata": {
      "needs_background": "light"
     },
     "output_type": "display_data"
    }
   ],
   "source": [
    "# importing the QQ-plot from the from the statsmodels\n",
    "from statsmodels.graphics.gofplots import qqplot\n",
    "\n",
    "## Plotting the QQ plot\n",
    "fig, ax = plt.subplots(figsize=(4,5) , dpi = 150)\n",
    "qqplot(residuals.residuals, line = 's' , ax = ax)\n",
    "plt.xlabel('Ideal Scaled Quantiles')\n",
    "plt.ylabel('Residual Quantiles')\n",
    "plt.legend([\"Residual Quantiles\",\"Ideal Scaled Quantiles\"])\n",
    "plt.title('Distribution of Residual Errors')\n",
    "plt.show()"
   ]
  },
  {
   "cell_type": "code",
   "execution_count": 202,
   "id": "cc2b9b95",
   "metadata": {},
   "outputs": [
    {
     "data": {
      "text/plain": [
       "1.7299572572091249"
      ]
     },
     "execution_count": 202,
     "metadata": {},
     "output_type": "execute_result"
    }
   ],
   "source": [
    "#calculating the train score \n",
    "\n",
    "linear_train_score = lr.score(train_x,train_y)\n",
    "linear_train_score*100"
   ]
  },
  {
   "cell_type": "code",
   "execution_count": 164,
   "id": "e153fd33",
   "metadata": {},
   "outputs": [
    {
     "data": {
      "text/plain": [
       "0.44375766281985474"
      ]
     },
     "execution_count": 164,
     "metadata": {},
     "output_type": "execute_result"
    }
   ],
   "source": [
    "#calculating the test score\n",
    "\n",
    "linear_test_score = lr.score(test_x,test_y)\n",
    "linear_test_score*100"
   ]
  },
  {
   "cell_type": "code",
   "execution_count": 165,
   "id": "f2af41ec",
   "metadata": {},
   "outputs": [
    {
     "name": "stdout",
     "output_type": "stream",
     "text": [
      "Stored 'linear_test_score' (float64)\n"
     ]
    }
   ],
   "source": [
    "#storing the value of test score which can be further used in other files for plotting the bar graph\n",
    "%store linear_test_score"
   ]
  },
  {
   "cell_type": "code",
   "execution_count": 166,
   "id": "e378d4e3",
   "metadata": {},
   "outputs": [
    {
     "name": "stdout",
     "output_type": "stream",
     "text": [
      "Stored 'linear_train_score' (float64)\n"
     ]
    }
   ],
   "source": [
    "#storing the value of train score which can be further used in other files for plotting the bar graph\n",
    "%store linear_train_score"
   ]
  },
  {
   "cell_type": "code",
   "execution_count": 167,
   "id": "80451afe",
   "metadata": {},
   "outputs": [],
   "source": [
    "sample_df=custom_df"
   ]
  },
  {
   "cell_type": "code",
   "execution_count": 168,
   "id": "77dfbcb1",
   "metadata": {
    "scrolled": true
   },
   "outputs": [
    {
     "data": {
      "text/plain": [
       "(11,)"
      ]
     },
     "execution_count": 168,
     "metadata": {},
     "output_type": "execute_result"
    }
   ],
   "source": [
    "sample_df.dtypes.shape"
   ]
  },
  {
   "cell_type": "code",
   "execution_count": 169,
   "id": "a3f37457",
   "metadata": {},
   "outputs": [
    {
     "data": {
      "text/html": [
       "<div>\n",
       "<style scoped>\n",
       "    .dataframe tbody tr th:only-of-type {\n",
       "        vertical-align: middle;\n",
       "    }\n",
       "\n",
       "    .dataframe tbody tr th {\n",
       "        vertical-align: top;\n",
       "    }\n",
       "\n",
       "    .dataframe thead th {\n",
       "        text-align: right;\n",
       "    }\n",
       "</style>\n",
       "<table border=\"1\" class=\"dataframe\">\n",
       "  <thead>\n",
       "    <tr style=\"text-align: right;\">\n",
       "      <th></th>\n",
       "      <th>pickup_longitude</th>\n",
       "      <th>pickup_latitude</th>\n",
       "      <th>dropoff_longitude</th>\n",
       "      <th>dropoff_latitude</th>\n",
       "      <th>trip_duration_hour</th>\n",
       "      <th>passenger_count_1</th>\n",
       "      <th>passenger_count_2</th>\n",
       "      <th>passenger_count_3</th>\n",
       "      <th>passenger_count_4</th>\n",
       "      <th>passenger_count_5</th>\n",
       "      <th>passenger_count_6</th>\n",
       "    </tr>\n",
       "  </thead>\n",
       "  <tbody>\n",
       "    <tr>\n",
       "      <th>146191</th>\n",
       "      <td>-74.013412</td>\n",
       "      <td>40.709381</td>\n",
       "      <td>-73.975502</td>\n",
       "      <td>40.681133</td>\n",
       "      <td>0.261944</td>\n",
       "      <td>0</td>\n",
       "      <td>1</td>\n",
       "      <td>0</td>\n",
       "      <td>0</td>\n",
       "      <td>0</td>\n",
       "      <td>0</td>\n",
       "    </tr>\n",
       "    <tr>\n",
       "      <th>265532</th>\n",
       "      <td>-74.000076</td>\n",
       "      <td>40.761559</td>\n",
       "      <td>-73.994354</td>\n",
       "      <td>40.760761</td>\n",
       "      <td>0.055278</td>\n",
       "      <td>1</td>\n",
       "      <td>0</td>\n",
       "      <td>0</td>\n",
       "      <td>0</td>\n",
       "      <td>0</td>\n",
       "      <td>0</td>\n",
       "    </tr>\n",
       "    <tr>\n",
       "      <th>513052</th>\n",
       "      <td>-73.974457</td>\n",
       "      <td>40.757908</td>\n",
       "      <td>-73.974205</td>\n",
       "      <td>40.753754</td>\n",
       "      <td>0.070833</td>\n",
       "      <td>1</td>\n",
       "      <td>0</td>\n",
       "      <td>0</td>\n",
       "      <td>0</td>\n",
       "      <td>0</td>\n",
       "      <td>0</td>\n",
       "    </tr>\n",
       "    <tr>\n",
       "      <th>607286</th>\n",
       "      <td>-73.985367</td>\n",
       "      <td>40.737347</td>\n",
       "      <td>-74.011597</td>\n",
       "      <td>40.702568</td>\n",
       "      <td>0.179722</td>\n",
       "      <td>0</td>\n",
       "      <td>0</td>\n",
       "      <td>0</td>\n",
       "      <td>0</td>\n",
       "      <td>1</td>\n",
       "      <td>0</td>\n",
       "    </tr>\n",
       "    <tr>\n",
       "      <th>658563</th>\n",
       "      <td>-73.943840</td>\n",
       "      <td>40.788502</td>\n",
       "      <td>-73.950119</td>\n",
       "      <td>40.778938</td>\n",
       "      <td>0.085556</td>\n",
       "      <td>1</td>\n",
       "      <td>0</td>\n",
       "      <td>0</td>\n",
       "      <td>0</td>\n",
       "      <td>0</td>\n",
       "      <td>0</td>\n",
       "    </tr>\n",
       "  </tbody>\n",
       "</table>\n",
       "</div>"
      ],
      "text/plain": [
       "        pickup_longitude  pickup_latitude  dropoff_longitude  \\\n",
       "146191        -74.013412        40.709381         -73.975502   \n",
       "265532        -74.000076        40.761559         -73.994354   \n",
       "513052        -73.974457        40.757908         -73.974205   \n",
       "607286        -73.985367        40.737347         -74.011597   \n",
       "658563        -73.943840        40.788502         -73.950119   \n",
       "\n",
       "        dropoff_latitude  trip_duration_hour  passenger_count_1  \\\n",
       "146191         40.681133            0.261944                  0   \n",
       "265532         40.760761            0.055278                  1   \n",
       "513052         40.753754            0.070833                  1   \n",
       "607286         40.702568            0.179722                  0   \n",
       "658563         40.778938            0.085556                  1   \n",
       "\n",
       "        passenger_count_2  passenger_count_3  passenger_count_4  \\\n",
       "146191                  1                  0                  0   \n",
       "265532                  0                  0                  0   \n",
       "513052                  0                  0                  0   \n",
       "607286                  0                  0                  0   \n",
       "658563                  0                  0                  0   \n",
       "\n",
       "        passenger_count_5  passenger_count_6  \n",
       "146191                  0                  0  \n",
       "265532                  0                  0  \n",
       "513052                  0                  0  \n",
       "607286                  1                  0  \n",
       "658563                  0                  0  "
      ]
     },
     "execution_count": 169,
     "metadata": {},
     "output_type": "execute_result"
    }
   ],
   "source": [
    "df1 = pd.concat([sample_df, pd.get_dummies(sample_df[['passenger_count']].astype('str'))], axis=1)\n",
    "try:\n",
    "    df1.drop(['id','vendor_id','pickup_datetime','dropoff_datetime','store_and_fwd_flag','passenger_count'], axis=1, inplace=True)\n",
    "except KeyError:\n",
    "    pass\n",
    "\n",
    "df1.head()"
   ]
  },
  {
   "cell_type": "code",
   "execution_count": 170,
   "id": "362cd6c9",
   "metadata": {},
   "outputs": [],
   "source": [
    "x = df1.drop([\"trip_duration_hour\"],axis = 1)\n",
    "y = df1[\"trip_duration_hour\"]"
   ]
  },
  {
   "cell_type": "code",
   "execution_count": 171,
   "id": "b2d576d2",
   "metadata": {},
   "outputs": [
    {
     "data": {
      "text/plain": [
       "(10000,)"
      ]
     },
     "execution_count": 171,
     "metadata": {},
     "output_type": "execute_result"
    }
   ],
   "source": [
    "y.shape"
   ]
  },
  {
   "cell_type": "code",
   "execution_count": 172,
   "id": "41b0fd71",
   "metadata": {},
   "outputs": [],
   "source": [
    "from sklearn.model_selection import train_test_split\n",
    "train_x,test_x,train_y,test_y = train_test_split(x,y,random_state=56)"
   ]
  },
  {
   "cell_type": "markdown",
   "id": "68823081",
   "metadata": {},
   "source": [
    "#  Build a Decision tree model for the given dataset. Attempt to interpret the variable importance"
   ]
  },
  {
   "cell_type": "code",
   "execution_count": 173,
   "id": "b9fd7093",
   "metadata": {},
   "outputs": [
    {
     "data": {
      "text/plain": [
       "DecisionTreeRegressor()"
      ]
     },
     "execution_count": 173,
     "metadata": {},
     "output_type": "execute_result"
    }
   ],
   "source": [
    "from sklearn.tree import DecisionTreeRegressor as DecisionTreeRegressor\n",
    "from sklearn.metrics import mean_squared_error as mse\n",
    "regressor = DecisionTreeRegressor()\n",
    "regressor.fit(x, y)"
   ]
  },
  {
   "cell_type": "code",
   "execution_count": 174,
   "id": "25901ac2",
   "metadata": {},
   "outputs": [
    {
     "name": "stdout",
     "output_type": "stream",
     "text": [
      "training rmse  0.0\n"
     ]
    }
   ],
   "source": [
    "from math import sqrt\n",
    "train_predict = regressor.predict(train_x)\n",
    "k = sqrt(mse(train_predict,train_y))\n",
    "print(\"training rmse \",k)"
   ]
  },
  {
   "cell_type": "code",
   "execution_count": 175,
   "id": "07e7b85f",
   "metadata": {},
   "outputs": [
    {
     "name": "stdout",
     "output_type": "stream",
     "text": [
      "testing rmse  0.0\n"
     ]
    }
   ],
   "source": [
    "from math import sqrt\n",
    "test_predict = regressor.predict(test_x)\n",
    "k1 = sqrt(mse(test_predict,test_y))\n",
    "print(\"testing rmse \",k1)"
   ]
  },
  {
   "cell_type": "markdown",
   "id": "5a067ea9",
   "metadata": {},
   "source": [
    "# To interpret the variable importance."
   ]
  },
  {
   "cell_type": "code",
   "execution_count": 176,
   "id": "5199081b",
   "metadata": {
    "scrolled": true
   },
   "outputs": [
    {
     "data": {
      "text/plain": [
       "Index(['pickup_longitude', 'pickup_latitude', 'dropoff_longitude',\n",
       "       'dropoff_latitude', 'passenger_count_1', 'passenger_count_2',\n",
       "       'passenger_count_3', 'passenger_count_4', 'passenger_count_5',\n",
       "       'passenger_count_6'],\n",
       "      dtype='object')"
      ]
     },
     "execution_count": 176,
     "metadata": {},
     "output_type": "execute_result"
    }
   ],
   "source": [
    "x.columns"
   ]
  },
  {
   "cell_type": "code",
   "execution_count": 177,
   "id": "8cad1e7b",
   "metadata": {},
   "outputs": [
    {
     "name": "stdout",
     "output_type": "stream",
     "text": [
      "Requirement already satisfied: xgboost in c:\\users\\dell\\anaconda3\\lib\\site-packages (1.7.1)Note: you may need to restart the kernel to use updated packages.\n",
      "Requirement already satisfied: numpy in c:\\users\\dell\\anaconda3\\lib\\site-packages (from xgboost) (1.21.5)\n",
      "Requirement already satisfied: scipy in c:\\users\\dell\\anaconda3\\lib\\site-packages (from xgboost) (1.7.3)\n",
      "\n"
     ]
    }
   ],
   "source": [
    "pip install xgboost"
   ]
  },
  {
   "cell_type": "code",
   "execution_count": 178,
   "id": "bba3e1ba",
   "metadata": {},
   "outputs": [
    {
     "data": {
      "image/png": "[encoded data removed]",
      "text/plain": [
       "<Figure size 432x288 with 1 Axes>"
      ]
     },
     "metadata": {
      "needs_background": "light"
     },
     "output_type": "display_data"
    }
   ],
   "source": [
    "#Using XGBoost in order to interpret the variable importance\n",
    "from xgboost import XGBRegressor\n",
    "from xgboost import plot_importance\n",
    "import matplotlib.pyplot as plt\n",
    "model = XGBRegressor()\n",
    "model.fit(x,y)\n",
    "plot_importance(model)\n",
    "plt.show()"
   ]
  },
  {
   "cell_type": "markdown",
   "id": "c7474c89",
   "metadata": {},
   "source": [
    "From the above graph we can draw an insight that the varaible \"dropoff_latitude\" has more impact on the trip duration variable followed by \"pickup_longitude\" then \"pickup_latitude\""
   ]
  },
  {
   "cell_type": "code",
   "execution_count": 179,
   "id": "fbf83625",
   "metadata": {},
   "outputs": [
    {
     "data": {
      "text/plain": [
       "100.0"
      ]
     },
     "execution_count": 179,
     "metadata": {},
     "output_type": "execute_result"
    }
   ],
   "source": [
    "#calculating the train score of decision tree model\n",
    "decision_train_score = regressor.score(train_x,train_y)\n",
    "decision_train_score*100"
   ]
  },
  {
   "cell_type": "code",
   "execution_count": 180,
   "id": "ff47eabf",
   "metadata": {},
   "outputs": [
    {
     "data": {
      "text/plain": [
       "100.0"
      ]
     },
     "execution_count": 180,
     "metadata": {},
     "output_type": "execute_result"
    }
   ],
   "source": [
    "#calculating the test score of decision tree model\n",
    "decision_test_score = regressor.score(test_x,test_y)\n",
    "decision_test_score*100"
   ]
  },
  {
   "cell_type": "code",
   "execution_count": 181,
   "id": "762fbd4b",
   "metadata": {},
   "outputs": [
    {
     "name": "stdout",
     "output_type": "stream",
     "text": [
      "Stored 'decision_test_score' (float64)\n"
     ]
    }
   ],
   "source": [
    "#storing the test score to use it in other file\n",
    "%store decision_test_score"
   ]
  },
  {
   "cell_type": "code",
   "execution_count": 182,
   "id": "477265b3",
   "metadata": {},
   "outputs": [
    {
     "name": "stdout",
     "output_type": "stream",
     "text": [
      "Stored 'decision_train_score' (float64)\n"
     ]
    }
   ],
   "source": [
    "#storing the train score to use it in other file\n",
    "%store decision_train_score"
   ]
  },
  {
   "cell_type": "markdown",
   "id": "1439608f",
   "metadata": {},
   "source": [
    "# Plot the following Bar plots:\n",
    "0. train score of all the above models.\n",
    "1. test (not validation!) score of all the above models.\n",
    "2. Attempt to explain the observations from the plots (optional)"
   ]
  },
  {
   "cell_type": "code",
   "execution_count": 183,
   "id": "8d693973",
   "metadata": {},
   "outputs": [
    {
     "data": {
      "text/plain": [
       "(1.0, 0.01729957257209125, 0.22066087471354767)"
      ]
     },
     "execution_count": 183,
     "metadata": {},
     "output_type": "execute_result"
    }
   ],
   "source": [
    "decision_train_score,linear_train_score,knn_train_score"
   ]
  },
  {
   "cell_type": "code",
   "execution_count": 184,
   "id": "dd3cef34",
   "metadata": {},
   "outputs": [],
   "source": [
    "#assining the train score values in x,y\n",
    "x=[\"decision_train_score\",\"linear_train_score\",\"knn_train_score\"]\n",
    "y=[0.9999996442282492, 0.005868613774166032, 0.22451293627095015]"
   ]
  },
  {
   "cell_type": "code",
   "execution_count": 185,
   "id": "ae261c58",
   "metadata": {},
   "outputs": [
    {
     "data": {
      "text/plain": [
       "(-0.1345060950590189, 0.004437576628198547, 1.0)"
      ]
     },
     "execution_count": 185,
     "metadata": {},
     "output_type": "execute_result"
    }
   ],
   "source": [
    "knn_test_score, linear_test_score,decision_test_score"
   ]
  },
  {
   "cell_type": "code",
   "execution_count": 186,
   "id": "c5c4fa6f",
   "metadata": {},
   "outputs": [
    {
     "data": {
      "image/png": "[encoded data removed]",
      "text/plain": [
       "<Figure size 600x400 with 1 Axes>"
      ]
     },
     "metadata": {
      "needs_background": "light"
     },
     "output_type": "display_data"
    }
   ],
   "source": [
    "plt.figure(dpi=100)\n",
    "plt.bar(x,y)\n",
    "plt.xlabel(\"models\")\n",
    "plt.ylabel(\"train scores\")\n",
    "plt.show()"
   ]
  },
  {
   "cell_type": "code",
   "execution_count": 187,
   "id": "5741bfe1",
   "metadata": {},
   "outputs": [],
   "source": [
    "#assining the test score value in x1,y1\n",
    "x1=[\"knn_test_score\",\"linear_test_score\",\"decision_test_score\"]\n",
    "y1=[-0.16425004050105008,0.00719197085905432,0.9999989502319949]"
   ]
  },
  {
   "cell_type": "code",
   "execution_count": 188,
   "id": "69e17a42",
   "metadata": {},
   "outputs": [
    {
     "data": {
      "image/png": "[encoded data removed]",
      "text/plain": [
       "<Figure size 600x400 with 1 Axes>"
      ]
     },
     "metadata": {
      "needs_background": "light"
     },
     "output_type": "display_data"
    }
   ],
   "source": [
    "plt.figure(dpi=100)\n",
    "plt.bar(x1,y1)\n",
    "plt.xlabel(\"models\")\n",
    "plt.ylabel(\"train scores\")\n",
    "plt.show()"
   ]
  },
  {
   "cell_type": "code",
   "execution_count": 153,
   "id": "46f68166",
   "metadata": {},
   "outputs": [],
   "source": [
    "# from above graph we can see that the best model among KNN LR and DT(decision tree) the best one is DT in train score"
   ]
  },
  {
   "cell_type": "code",
   "execution_count": null,
   "id": "9f76e183",
   "metadata": {},
   "outputs": [],
   "source": []
  },
  {
   "cell_type": "code",
   "execution_count": null,
   "id": "11ea2d76",
   "metadata": {},
   "outputs": [],
   "source": []
  },
  {
   "cell_type": "code",
   "execution_count": null,
   "id": "279f5b85",
   "metadata": {},
   "outputs": [],
   "source": []
  },
  {
   "cell_type": "code",
   "execution_count": null,
   "id": "b332f894",
   "metadata": {},
   "outputs": [],
   "source": []
  }
 ],
 "metadata": {
  "kernelspec": {
   "display_name": "Python 3 (ipykernel)",
   "language": "python",
   "name": "python3"
  },
  "language_info": {
   "codemirror_mode": {
    "name": "ipython",
    "version": 3
   },
   "file_extension": ".py",
   "mimetype": "text/x-python",
   "name": "python",
   "nbconvert_exporter": "python",
   "pygments_lexer": "ipython3",
   "version": "3.9.12"
  }
 },
 "nbformat": 4,
 "nbformat_minor": 5
}
